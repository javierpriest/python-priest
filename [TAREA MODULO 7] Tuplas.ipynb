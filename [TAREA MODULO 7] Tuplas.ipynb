{
 "cells": [
  {
   "cell_type": "code",
   "execution_count": 15,
   "id": "04c7f8dc-a963-403a-8485-708b78da0a3c",
   "metadata": {},
   "outputs": [
    {
     "name": "stdout",
     "output_type": "stream",
     "text": [
      "Lista de Reproducción\n",
      "\n",
      "Ingresa el género o banda que te gustaría oír, por ejemplo: 'rock', y obtendrás un playlist de canciones o artistas que incluyan la palabra rock\n",
      "\n"
     ]
    },
    {
     "name": "stdin",
     "output_type": "stream",
     "text": [
      " alcest\n"
     ]
    },
    {
     "name": "stdout",
     "output_type": "stream",
     "text": [
      "['Améthyste', 'Alcest']\n",
      "['Komorebi', 'Alcest']\n",
      "['Sapphire', 'Alcest']\n",
      "['Flamme Jumelle', 'Alcest']\n",
      "['Spiritual Instinct', 'Alcest']\n",
      "[\"L'Envol\", 'Alcest']\n",
      "[\"L'Enfant de la Lune (月の子)\", 'Alcest']\n",
      "['Protection', 'Alcest']\n",
      "['Les jardins de minuit', 'Alcest']\n",
      "['Réminiscence', 'Alcest']\n",
      "[\"L'Adieu\", 'Alcest']\n",
      "[\"L'île des morts\", 'Alcest']\n",
      "['Kodama', 'Alcest']\n",
      "['Percées de lumière', 'Alcest']\n",
      "['Oiseaux de proie', 'Alcest']\n",
      "['Autre temps (Album version)', 'Alcest']\n",
      "['Tir nan og', 'Alcest']\n",
      "[\"Sing for the Damage We've Done\", 'Harakiri for the Sky']\n",
      "['Le miroir', 'Alcest']\n",
      "[\"Sur l'océan couleur de fer\", 'Alcest']\n",
      "['Là où naissent les couleurs nouvelles', 'Alcest']\n",
      "['Délivrance', 'Alcest']\n",
      "[\"Je suis d'ailleurs\", 'Alcest']\n",
      "['Ecailles de lune, Pt. 2', 'Alcest']\n",
      "['Ecailles de lune, Pt. 1', 'Alcest']\n",
      "\n",
      "Tu lista de reproducción creada para el género o banda: alcest es la siguiente:\n",
      "('Améthyste', 'Komorebi', 'Sapphire', 'Flamme Jumelle', 'Spiritual Instinct', \"L'Envol\", \"L'Enfant de la Lune (月の子)\", 'Protection', 'Les jardins de minuit', 'Réminiscence', \"L'Adieu\", \"L'île des morts\", 'Kodama', 'Percées de lumière', 'Oiseaux de proie', 'Autre temps (Album version)', 'Tir nan og', \"Sing for the Damage We've Done\", 'Le miroir', \"Sur l'océan couleur de fer\", 'Là où naissent les couleurs nouvelles', 'Délivrance', \"Je suis d'ailleurs\", 'Ecailles de lune, Pt. 2', 'Ecailles de lune, Pt. 1')\n"
     ]
    }
   ],
   "source": [
    "import requests \n",
    "print(\"Lista de Reproducción\\n\") \n",
    "# Referencia: https://www.deezer.com/en/channels/explore \n",
    "print(\"Ingresa el género o banda que te gustaría oír, por ejemplo: 'rock', y obtendrás un playlist de canciones o artistas que incluyan la palabra rock\") \n",
    "\n",
    "print(\"\") \n",
    "my_final_list = []\n",
    "\n",
    "word_to_search = input() \n",
    "\n",
    "url = \"https://deezerdevs-deezer.p.rapidapi.com/search\" \n",
    "\n",
    "querystring = {\"q\":word_to_search} \n",
    "\n",
    "headers = {    \"X-RapidAPI-Key\": \"3ed98f551fmshe4e6260228c4eadp13db17jsn8c893e1194da\",    \"X-RapidAPI-Host\": \"deezerdevs-deezer.p.rapidapi.com\" } \n",
    "\n",
    "response = requests.request(\"GET\", url, headers=headers, params=querystring).json() \n",
    "\n",
    "for element in response['data']:\n",
    "    my_list = [element['title'], element['artist']['name']]\n",
    "    my_list_tuple = my_final_list.append(element ['title'])\n",
    "    print(my_list)\n",
    "\n",
    "\n",
    "my_final_list = tuple(my_final_list)\n",
    "print(\"\"\"\\nTu lista de reproducción creada para el género o banda {} es la siguiente:\\n{}\"\"\" .format(word_to_search,my_final_list))\n"
   ]
  },
  {
   "cell_type": "code",
   "execution_count": null,
   "id": "94f67880-8fd8-47a7-b15a-bfd8d1d403db",
   "metadata": {},
   "outputs": [],
   "source": [
    "juda "
   ]
  }
 ],
 "metadata": {
  "kernelspec": {
   "display_name": "Python 3 (ipykernel)",
   "language": "python",
   "name": "python3"
  },
  "language_info": {
   "codemirror_mode": {
    "name": "ipython",
    "version": 3
   },
   "file_extension": ".py",
   "mimetype": "text/x-python",
   "name": "python",
   "nbconvert_exporter": "python",
   "pygments_lexer": "ipython3",
   "version": "3.12.2"
  }
 },
 "nbformat": 4,
 "nbformat_minor": 5
}
