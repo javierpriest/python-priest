{
 "cells": [
  {
   "cell_type": "code",
   "execution_count": 7,
   "id": "7258b1b7-34d7-4c75-b72d-e30e557e5d80",
   "metadata": {},
   "outputs": [
    {
     "name": "stdin",
     "output_type": "stream",
     "text": [
      "Ingrese un valor Entero:  3\n"
     ]
    },
    {
     "name": "stdout",
     "output_type": "stream",
     "text": [
      "El primer valor es:  3\n",
      "<class 'int'>\n"
     ]
    },
    {
     "name": "stdin",
     "output_type": "stream",
     "text": [
      "Ingrese un valor Flotante:  12.4\n"
     ]
    },
    {
     "name": "stdout",
     "output_type": "stream",
     "text": [
      "El primer valor es:  12.4\n",
      "<class 'float'>\n"
     ]
    },
    {
     "name": "stdin",
     "output_type": "stream",
     "text": [
      "Ingrese cadena de texto:  hola\n"
     ]
    },
    {
     "name": "stdout",
     "output_type": "stream",
     "text": [
      "El primer valor es:  hola\n",
      "<class 'str'>\n"
     ]
    }
   ],
   "source": [
    "a = eval(input(\"Ingrese un valor Entero: \"))\n",
    "print(\"El primer valor es: \", a)\n",
    "print(type(a))\n",
    "b = eval(input(\"Ingrese un valor Flotante: \"))\n",
    "print(\"El primer valor es: \", b)\n",
    "print(type(b))\n",
    "c = input(\"Ingrese cadena de texto: \")\n",
    "print(\"El primer valor es: \", c)\n",
    "print(type(c))"
   ]
  }
 ],
 "metadata": {
  "kernelspec": {
   "display_name": "Python 3 (ipykernel)",
   "language": "python",
   "name": "python3"
  },
  "language_info": {
   "codemirror_mode": {
    "name": "ipython",
    "version": 3
   },
   "file_extension": ".py",
   "mimetype": "text/x-python",
   "name": "python",
   "nbconvert_exporter": "python",
   "pygments_lexer": "ipython3",
   "version": "3.12.2"
  }
 },
 "nbformat": 4,
 "nbformat_minor": 5
}
