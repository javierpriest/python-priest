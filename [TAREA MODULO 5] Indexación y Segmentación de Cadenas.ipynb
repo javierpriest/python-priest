{
 "cells": [
  {
   "cell_type": "code",
   "execution_count": 33,
   "id": "74bcc286-7805-427d-88c7-966e44ba6920",
   "metadata": {},
   "outputs": [
    {
     "name": "stdout",
     "output_type": "stream",
     "text": [
      "Analizador de sentimientos\n",
      "\n",
      "\n",
      "Comentario: ESTE PRODUCTO ES FUNCIONAL, NO TIENE NADA DE ESPECIAL PERO TAMPOCO ES MALO.\n",
      "Puntaje: -1 \n",
      "Satisfacción del comprador: Negativo\n"
     ]
    }
   ],
   "source": [
    "def toLower(comment):\n",
    "    my_string_lower = comment.lower()\n",
    "    return(my_string_lower)\n",
    "def toUpper(comment):\n",
    "    my_string_upper = comment.upper()\n",
    "    return(my_string_upper)\n",
    "\n",
    "positive_words = [\"bueno\", \"excelente\", \"maravilloso\"]\n",
    "negative_words = [\"defectuoso\", \"malo\", \"horrible\"]\n",
    "score = 0\n",
    "\n",
    "my_string_1 = \"\"\" Este es un product muy Bueno, Excelente, Maravilloso \"\"\"\n",
    "my_string_2 = \"\"\"Este producto es realmente malo, defectuoso y horrible. No lo recomiendo para nada.\"\"\"\n",
    "my_string_3 = \"\"\"Este producto es funcional, no tiene nada de especial pero tampoco es malo.\"\"\"\n",
    "\n",
    "comment = toUpper(my_string_3)\n",
    "my_string_lower = toLower(my_string_3)\n",
    "\n",
    "for positive_word in positive_words:    \n",
    "\tscore = score + my_string_lower.count(positive_word)\n",
    "\n",
    "for negative_word in negative_words:    \n",
    "\tscore = score - my_string_lower.count(negative_word)\n",
    "\n",
    "if score == 0:\n",
    "\tresult = \"Neutro\" \n",
    "if score > 0:    \n",
    "\tresult = \"Positivo\" \n",
    "if score < 0:    \n",
    "\tresult = \"Negativo\"\n",
    "\n",
    "print(\"Analizador de sentimientos\\n\") \n",
    "print(\"\\nComentario: {}\\nPuntaje: {} \\nSatisfacción del comprador: {}\".format(comment,score, result))"
   ]
  },
  {
   "cell_type": "code",
   "execution_count": null,
   "id": "90dceecc-4d80-4443-b926-471169da0325",
   "metadata": {},
   "outputs": [],
   "source": []
  },
  {
   "cell_type": "code",
   "execution_count": null,
   "id": "d858d500-f72b-4ea2-ba51-e5f9439fd552",
   "metadata": {},
   "outputs": [],
   "source": []
  }
 ],
 "metadata": {
  "kernelspec": {
   "display_name": "Python 3 (ipykernel)",
   "language": "python",
   "name": "python3"
  },
  "language_info": {
   "codemirror_mode": {
    "name": "ipython",
    "version": 3
   },
   "file_extension": ".py",
   "mimetype": "text/x-python",
   "name": "python",
   "nbconvert_exporter": "python",
   "pygments_lexer": "ipython3",
   "version": "3.12.2"
  }
 },
 "nbformat": 4,
 "nbformat_minor": 5
}
