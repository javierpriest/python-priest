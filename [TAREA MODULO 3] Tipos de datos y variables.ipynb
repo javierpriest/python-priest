{
 "cells": [
  {
   "cell_type": "code",
   "execution_count": 58,
   "id": "dc8ee8d0-6848-4e02-9458-e1879c2b128d",
   "metadata": {},
   "outputs": [
    {
     "name": "stdin",
     "output_type": "stream",
     "text": [
      "Seleccione el tipo de operación a realizar:\n",
      "1-SUMA\n",
      "2-RESTA\n",
      "3-PRODUCTO\n",
      "4-DIVISIÓN\n",
      "5-POTENCIA\n",
      " 3\n",
      "Ingrese el primer valor:  3\n",
      "\n",
      "Ingrese el segundo valor:  3\n"
     ]
    },
    {
     "name": "stdout",
     "output_type": "stream",
     "text": [
      "3.0 * 3.0 = 9.0\n"
     ]
    }
   ],
   "source": [
    "def suma(a,b):\n",
    "    result = a+b\n",
    "    print(a, \"+\", b, \"=\", result)\n",
    "\n",
    "def resta(a,b):\n",
    "    result = a-b\n",
    "    print(a, \"-\", b, \"=\", result)\n",
    "\n",
    "def producto(a,b):\n",
    "    result = a*b\n",
    "    print(a, \"*\", b, \"=\", result)\n",
    "\n",
    "def division(a,b):\n",
    "    if b != 0:\n",
    "        result = a / b\n",
    "        print(a, \"/\", b, \"=\", result)\n",
    "    else:\n",
    "        print(\"No se puede dividir por 0\")\n",
    "\n",
    "def potencia(a,b):\n",
    "    result = a**b\n",
    "    print(a, \"**\", b, \"=\", result)\n",
    "\n",
    "def operation(operation_type,a,b):\n",
    "    if operation_type == \"1\":\n",
    "        suma(a, b)\n",
    "    elif operation_type == \"2\":\n",
    "        resta(a, b)\n",
    "    elif operation_type == \"3\":\n",
    "        producto(a, b)\n",
    "    elif operation_type == \"4\":\n",
    "        division(a, b)\n",
    "    elif operation_type == \"5\":\n",
    "        potencia(a, b)\n",
    "    else:\n",
    "        print(\"Operación no válida\")\n",
    "    \n",
    "\n",
    "\n",
    "operation_type = input(\"Seleccione el tipo de operación a realizar:\\n1-SUMA\\n2-RESTA\\n3-PRODUCTO\\n4-DIVISIÓN\\n5-POTENCIA\\n\")\n",
    "a = float(input(\"Ingrese el primer valor: \"))\n",
    "b = float(input(\"\\nIngrese el segundo valor: \"))\n",
    "\n",
    "operation(operation_type,a,b)\n",
    "\n",
    "\n",
    "\n"
   ]
  },
  {
   "cell_type": "code",
   "execution_count": null,
   "id": "377bc2d5-f4b1-4442-92db-673f5d5d9290",
   "metadata": {},
   "outputs": [],
   "source": []
  }
 ],
 "metadata": {
  "kernelspec": {
   "display_name": "Python 3 (ipykernel)",
   "language": "python",
   "name": "python3"
  },
  "language_info": {
   "codemirror_mode": {
    "name": "ipython",
    "version": 3
   },
   "file_extension": ".py",
   "mimetype": "text/x-python",
   "name": "python",
   "nbconvert_exporter": "python",
   "pygments_lexer": "ipython3",
   "version": "3.12.2"
  }
 },
 "nbformat": 4,
 "nbformat_minor": 5
}
