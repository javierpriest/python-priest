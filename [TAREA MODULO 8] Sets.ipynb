{
 "cells": [
  {
   "cell_type": "code",
   "execution_count": 63,
   "id": "69ac7bc3-a326-4dd4-9b83-6b9f200ce12f",
   "metadata": {},
   "outputs": [
    {
     "name": "stdout",
     "output_type": "stream",
     "text": [
      "El número total de combinaciones posibles son: 38416\n",
      "Descifrado: DDD1\n"
     ]
    }
   ],
   "source": [
    "numbers_letters = ['0', '1', '2', '3', '4', '5', '6', '7', '8', '9','A', 'B', 'C', 'D'] \n",
    "\n",
    "unique_combinations = set() \n",
    "input_code = 'DDD1'\n",
    "\n",
    "for first in numbers_letters:\n",
    "    for second in numbers_letters:\n",
    "        for third in numbers_letters:\n",
    "            for fourth in numbers_letters:\n",
    "                unique_combinations.add(\"{}{}{}{}\".format(first,second,third,fourth))\n",
    "                \n",
    "\n",
    "\n",
    "unique_combinations_set = set(unique_combinations)\n",
    "sorted(unique_combinations_set)\n",
    "\n",
    "print(\"El número total de combinaciones posibles son: {}\".format(len(unique_combinations_set)))\n",
    "\n",
    "\n",
    "for combination in unique_combinations_set:\n",
    "    if input_code == combination:\n",
    "        print(\"Descifrado: {}\" .format(combination))"
   ]
  },
  {
   "cell_type": "code",
   "execution_count": null,
   "id": "d0f056d8-84e4-4f1d-8865-e4af1096fd1c",
   "metadata": {},
   "outputs": [],
   "source": []
  }
 ],
 "metadata": {
  "kernelspec": {
   "display_name": "Python 3 (ipykernel)",
   "language": "python",
   "name": "python3"
  },
  "language_info": {
   "codemirror_mode": {
    "name": "ipython",
    "version": 3
   },
   "file_extension": ".py",
   "mimetype": "text/x-python",
   "name": "python",
   "nbconvert_exporter": "python",
   "pygments_lexer": "ipython3",
   "version": "3.12.2"
  }
 },
 "nbformat": 4,
 "nbformat_minor": 5
}
