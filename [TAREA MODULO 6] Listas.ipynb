{
 "cells": [
  {
   "cell_type": "code",
   "execution_count": 13,
   "id": "f1744715-13fe-4cde-9e9c-fcc796c260ca",
   "metadata": {},
   "outputs": [
    {
     "name": "stdout",
     "output_type": "stream",
     "text": [
      "Carrito de compras\n",
      "\n",
      "Productos Disponibles: \n",
      "1.- Pan \n",
      "2.- Jamón \n",
      "3.- Crema \n",
      "4.- Mayonesa \n",
      "5.- Lechuga \n",
      "6.- Tortillas \n",
      "7.- Salchichas \n",
      "8.- Jitomates\n",
      "\n"
     ]
    },
    {
     "name": "stdin",
     "output_type": "stream",
     "text": [
      "Ingrese el número del producto que desea agregar (o escriba 0 para terminar la lista):  jamin\n"
     ]
    },
    {
     "name": "stdout",
     "output_type": "stream",
     "text": [
      "Entrada inválida, por favor ingrese un número.\n"
     ]
    },
    {
     "name": "stdin",
     "output_type": "stream",
     "text": [
      "Ingrese el número del producto que desea agregar (o escriba 0 para terminar la lista):  2\n"
     ]
    },
    {
     "name": "stdout",
     "output_type": "stream",
     "text": [
      "Producto agregado: jamón\n"
     ]
    },
    {
     "name": "stdin",
     "output_type": "stream",
     "text": [
      "Ingrese el número del producto que desea agregar (o escriba 0 para terminar la lista):  0\n"
     ]
    },
    {
     "name": "stdout",
     "output_type": "stream",
     "text": [
      "\n",
      "Productos seleccionados:\n",
      "- jamón\n"
     ]
    }
   ],
   "source": [
    "print(\"Carrito de compras\\n\") \n",
    "print(\"\"\"Productos Disponibles: \n",
    "1.- Pan \n",
    "2.- Jamón \n",
    "3.- Crema \n",
    "4.- Mayonesa \n",
    "5.- Lechuga \n",
    "6.- Tortillas \n",
    "7.- Salchichas \n",
    "8.- Jitomates\\n\"\"\") \n",
    "\n",
    "available_products = [\"pan\", \"jamón\", \"crema\", \"mayonesa\", \"lechuga\", \"tortillas\", \"salchichas\", \"jitomates\"]\n",
    "selected_products = []\n",
    "\n",
    "while True:\n",
    "    product_input = input(\"Ingrese el número del producto que desea agregar (o escriba 0 para terminar la lista): \")\n",
    "    \n",
    "    if product_input.isdigit(): \n",
    "        product = int(product_input)\n",
    "        \n",
    "        if product == 0:\n",
    "            break\n",
    "            \n",
    "        elif 1 <= product <= 8:\n",
    "            selected_products.append(available_products[product - 1])\n",
    "            print(\"Producto agregado: {}\" .format(available_products[product - 1]))\n",
    "            \n",
    "        else:\n",
    "            print(\"Producto inválido, por favor ingrese un número entre 1 y 8.\")\n",
    "    else:\n",
    "        print(\"Entrada inválida, por favor ingrese un número.\")\n",
    "\n",
    "print(\"\\nProductos seleccionados:\")\n",
    "\n",
    "for item in selected_products:\n",
    "    print(\"- {}\" .format(item))\n"
   ]
  },
  {
   "cell_type": "code",
   "execution_count": null,
   "id": "e4d5af21-8dfc-4810-bd21-e46621f962a4",
   "metadata": {},
   "outputs": [],
   "source": []
  }
 ],
 "metadata": {
  "kernelspec": {
   "display_name": "Python 3 (ipykernel)",
   "language": "python",
   "name": "python3"
  },
  "language_info": {
   "codemirror_mode": {
    "name": "ipython",
    "version": 3
   },
   "file_extension": ".py",
   "mimetype": "text/x-python",
   "name": "python",
   "nbconvert_exporter": "python",
   "pygments_lexer": "ipython3",
   "version": "3.12.2"
  }
 },
 "nbformat": 4,
 "nbformat_minor": 5
}
